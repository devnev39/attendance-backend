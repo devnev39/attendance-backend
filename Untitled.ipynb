{
 "cells": [
  {
   "cell_type": "code",
   "execution_count": 1,
   "id": "e9213ad8-8f81-47e2-8291-0309aa7f0b40",
   "metadata": {},
   "outputs": [],
   "source": [
    "import firebase_admin\n",
    "from firebase_admin import credentials\n",
    "from firebase_admin import firestore\n",
    "import os\n",
    "from uuid import uuid4"
   ]
  },
  {
   "cell_type": "code",
   "execution_count": 2,
   "id": "49aa5296",
   "metadata": {},
   "outputs": [],
   "source": [
    "import datetime"
   ]
  },
  {
   "cell_type": "code",
   "execution_count": 3,
   "id": "9cf4d0a4-ff74-49cc-bdbb-860c28160bc3",
   "metadata": {
    "tags": []
   },
   "outputs": [],
   "source": [
    "cred = credentials.Certificate(os.path.expanduser('~/')+os.environ['PROJECT_DB_KEY'])\n",
    "firebase_admin.initialize_app(cred)\n",
    "\n",
    "db = firestore.client()"
   ]
  },
  {
   "cell_type": "code",
   "execution_count": 4,
   "id": "2160f3c2",
   "metadata": {},
   "outputs": [],
   "source": [
    "event_id = uuid4().hex"
   ]
  },
  {
   "cell_type": "code",
   "execution_count": 5,
   "id": "e1085e9f",
   "metadata": {},
   "outputs": [],
   "source": [
    "class Attendance:\n",
    "    id : str\n",
    "    attendance_log : dict\n",
    "    employee_id : str\n",
    "    status : int"
   ]
  },
  {
   "cell_type": "code",
   "execution_count": 6,
   "id": "21fca26d",
   "metadata": {},
   "outputs": [],
   "source": [
    "def createAttendace(att_log : dict, employee_id : str, status : int):\n",
    "    att = Attendance()\n",
    "    att.id = uuid4().hex\n",
    "    att.attendance_log = att_log if att_log else None\n",
    "    att.employee_id = employee_id if employee_id else None\n",
    "    att.status = status\n",
    "    att = att.__dict__\n",
    "    for key in list(att.keys()):\n",
    "        if att[key] is None:\n",
    "            del att[key]\n",
    "    return att\n"
   ]
  },
  {
   "cell_type": "code",
   "execution_count": 7,
   "id": "0c112c37",
   "metadata": {},
   "outputs": [],
   "source": [
    "def putAttendance(attendance : dict):\n",
    "    doc_ref = db.collection(\"attendance\").document(attendance['id'])\n",
    "    doc_ref.set(attendance)\n",
    "    return True\n",
    "\n",
    "def updateAttendance(attendance : dict, attendance_id : str):\n",
    "    doc_ref = db.collection(\"attendance\").document(attendance_id).set(attendance,merge=True)\n",
    "    return doc_ref"
   ]
  },
  {
   "cell_type": "code",
   "execution_count": 8,
   "id": "d7f0263c",
   "metadata": {},
   "outputs": [],
   "source": [
    "def createAttendanceLog(date : str,**kwargs):\n",
    "    return {\n",
    "        f'{date}':kwargs\n",
    "    }"
   ]
  },
  {
   "cell_type": "code",
   "execution_count": 10,
   "id": "22ea8368",
   "metadata": {},
   "outputs": [
    {
     "data": {
      "text/plain": [
       "{'id': '5ca3d610e4ad400cbb822f480b2eaa5a',\n",
       " 'attendance_log': {'2023-05-18': {'is_present': True,\n",
       "   'comment': ['break at 5.50am']}},\n",
       " 'employee_id': '8648d9bbf93949bfa74889d0c03d9772',\n",
       " 'status': 2}"
      ]
     },
     "execution_count": 10,
     "metadata": {},
     "output_type": "execute_result"
    }
   ],
   "source": [
    "att = createAttendace(createAttendanceLog(date=datetime.date.today(),is_present=True,comment=[\"break at 5.50am\"]),uuid4().hex,2)\n",
    "att"
   ]
  },
  {
   "cell_type": "code",
   "execution_count": 11,
   "id": "a8a5d1b1",
   "metadata": {},
   "outputs": [
    {
     "data": {
      "text/plain": [
       "True"
      ]
     },
     "execution_count": 11,
     "metadata": {},
     "output_type": "execute_result"
    }
   ],
   "source": [
    "putAttendance(att)"
   ]
  },
  {
   "cell_type": "code",
   "execution_count": 14,
   "id": "4113e2ee",
   "metadata": {},
   "outputs": [
    {
     "data": {
      "text/plain": [
       "{'2023-05-18': {'punch_out_time': '2023-05-18 20:16:57.935646'}}"
      ]
     },
     "execution_count": 14,
     "metadata": {},
     "output_type": "execute_result"
    }
   ],
   "source": [
    "attendance_log = {\n",
    "    f'{datetime.datetime.now().date()}' : {\n",
    "        \"punch_out_time\" : str(datetime.datetime.now())\n",
    "    }\n",
    "}\n",
    "attendance_log"
   ]
  },
  {
   "cell_type": "code",
   "execution_count": 35,
   "id": "9738092c",
   "metadata": {},
   "outputs": [],
   "source": [
    "flag = True\n",
    "attendance_log = {\n",
    "    f'{datetime.datetime.now().date()}' : {\n",
    "        \"comment\" : firestore.firestore.ArrayUnion([\"Break at 5.34\"]) if flag else 'Flag is false'\n",
    "    }\n",
    "}"
   ]
  },
  {
   "cell_type": "code",
   "execution_count": 36,
   "id": "d53b4e0e",
   "metadata": {},
   "outputs": [
    {
     "data": {
      "text/plain": [
       "update_time {\n",
       "  seconds: 1684422003\n",
       "  nanos: 14287000\n",
       "}\n",
       "transform_results {\n",
       "  null_value: NULL_VALUE\n",
       "}"
      ]
     },
     "execution_count": 36,
     "metadata": {},
     "output_type": "execute_result"
    }
   ],
   "source": [
    "updateAttendance({\"attendance_log\" : attendance_log},att['id'])"
   ]
  },
  {
   "cell_type": "code",
   "execution_count": 18,
   "id": "591e7a2c",
   "metadata": {},
   "outputs": [
    {
     "ename": "AttributeError",
     "evalue": "'str' object has no attribute 'attendance_log'",
     "output_type": "error",
     "traceback": [
      "\u001b[0;31m---------------------------------------------------------------------------\u001b[0m",
      "\u001b[0;31mAttributeError\u001b[0m                            Traceback (most recent call last)",
      "Cell \u001b[0;32mIn[18], line 1\u001b[0m\n\u001b[0;32m----> 1\u001b[0m att \u001b[39m=\u001b[39m createAttendace(createAttendanceLog(date\u001b[39m=\u001b[39;49mdatetime\u001b[39m.\u001b[39;49mdate\u001b[39m.\u001b[39;49mtoday(),is_present\u001b[39m=\u001b[39;49m\u001b[39mFalse\u001b[39;49;00m,comments\u001b[39m=\u001b[39;49m[\u001b[39m\"\u001b[39;49m\u001b[39mNot present !\u001b[39;49m\u001b[39m\"\u001b[39;49m]),\u001b[39mNone\u001b[39;49;00m,\u001b[39mNone\u001b[39;49;00m)\n\u001b[1;32m      2\u001b[0m att\n",
      "Cell \u001b[0;32mIn[17], line 4\u001b[0m, in \u001b[0;36mcreateAttendace\u001b[0;34m(att_log, employee_id, status)\u001b[0m\n\u001b[1;32m      2\u001b[0m att \u001b[39m=\u001b[39m Attendance()\n\u001b[1;32m      3\u001b[0m att \u001b[39m=\u001b[39m uuid4()\u001b[39m.\u001b[39mhex\n\u001b[0;32m----> 4\u001b[0m att\u001b[39m.\u001b[39;49mattendance_log \u001b[39m=\u001b[39m att_log \u001b[39mif\u001b[39;00m att_log \u001b[39melse\u001b[39;00m \u001b[39mNone\u001b[39;00m\n\u001b[1;32m      5\u001b[0m att\u001b[39m.\u001b[39memployee_id \u001b[39m=\u001b[39m employee_id \u001b[39mif\u001b[39;00m employee_id \u001b[39melse\u001b[39;00m \u001b[39mNone\u001b[39;00m\n\u001b[1;32m      6\u001b[0m att\u001b[39m.\u001b[39mstatus \u001b[39m=\u001b[39m status\n",
      "\u001b[0;31mAttributeError\u001b[0m: 'str' object has no attribute 'attendance_log'"
     ]
    }
   ],
   "source": [
    "att = createAttendace(createAttendanceLog(date=datetime.date.today(),is_present=False,comments=[\"Not present !\"]),None,None)\n",
    "att"
   ]
  },
  {
   "cell_type": "code",
   "execution_count": 54,
   "id": "a2528947",
   "metadata": {},
   "outputs": [
    {
     "data": {
      "text/plain": [
       "update_time {\n",
       "  seconds: 1683710397\n",
       "  nanos: 821703000\n",
       "}"
      ]
     },
     "execution_count": 54,
     "metadata": {},
     "output_type": "execute_result"
    }
   ],
   "source": [
    "updateAttendance(eventId=event_id,attendance=att,attendance_id=\"5a04d259087b487eb2a2456c60c036b3\")"
   ]
  },
  {
   "cell_type": "code",
   "execution_count": null,
   "id": "45474209",
   "metadata": {},
   "outputs": [],
   "source": []
  },
  {
   "cell_type": "code",
   "execution_count": null,
   "id": "9fac1489",
   "metadata": {},
   "outputs": [],
   "source": []
  }
 ],
 "metadata": {
  "kernelspec": {
   "display_name": "Python 3 (ipykernel)",
   "language": "python",
   "name": "python3"
  },
  "language_info": {
   "codemirror_mode": {
    "name": "ipython",
    "version": 3
   },
   "file_extension": ".py",
   "mimetype": "text/x-python",
   "name": "python",
   "nbconvert_exporter": "python",
   "pygments_lexer": "ipython3",
   "version": "3.11.0"
  }
 },
 "nbformat": 4,
 "nbformat_minor": 5
}
